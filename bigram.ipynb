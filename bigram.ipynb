{
 "cells": [
  {
   "cell_type": "code",
   "execution_count": 28,
   "metadata": {},
   "outputs": [],
   "source": [
    "import torch\n",
    "import numpy as np\n",
    "import time"
   ]
  },
  {
   "cell_type": "code",
   "execution_count": 1,
   "metadata": {},
   "outputs": [
    {
     "name": "stdout",
     "output_type": "stream",
     "text": [
      "['\\n', ' ', '\"', '#', '&', '(', ')', '*', ',', '-', '.', '0', '1', '2', '4', '5', '6', '7', '8', '9', ':', 'A', 'B', 'C', 'D', 'E', 'F', 'G', 'H', 'I', 'J', 'K', 'L', 'M', 'N', 'O', 'P', 'R', 'S', 'T', 'U', 'W', 'Y', '[', ']', 'a', 'b', 'c', 'd', 'e', 'f', 'g', 'h', 'i', 'j', 'k', 'l', 'm', 'n', 'o', 'p', 'r', 's', 't', 'u', 'v', 'w', 'y']\n",
      "68\n"
     ]
    }
   ],
   "source": [
    "with open(\"book.txt\",\"r\",encoding=\"utf-8\") as f:\n",
    "    text = f.read()\n",
    "chars = sorted(set(text))\n",
    "print(chars)\n",
    "print(len(chars))"
   ]
  },
  {
   "cell_type": "code",
   "execution_count": null,
   "metadata": {},
   "outputs": [
    {
     "data": {
      "text/plain": [
       "3"
      ]
     },
     "execution_count": 7,
     "metadata": {},
     "output_type": "execute_result"
    }
   ],
   "source": [
    "str_to_int = {ch:i for i,ch in enumerate(chars)}\n",
    "int_to_str = {i:ch for i,ch in enumerate(chars)}"
   ]
  },
  {
   "cell_type": "code",
   "execution_count": null,
   "metadata": {},
   "outputs": [
    {
     "data": {
      "text/plain": [
       "'hello'"
      ]
     },
     "execution_count": 21,
     "metadata": {},
     "output_type": "execute_result"
    }
   ],
   "source": [
    "# 定义两个方法，将一个列表中的所有字母/数字都转化成数字/字母\n",
    "encode = lambda s: [str_to_int[c] for c in s]\n",
    "decode = lambda l: ''.join([int_to_str[i] for i in l]) # 按照分隔符\"\"将字符连接起来\n",
    "decode2 = lambda l: [int_to_str[i] for i in l]\n",
    "en_data = encode(\"hello\")\n",
    "en_data\n",
    "de_data = decode(en_data)\n",
    "de_data"
   ]
  },
  {
   "cell_type": "code",
   "execution_count": 22,
   "metadata": {},
   "outputs": [
    {
     "name": "stdout",
     "output_type": "stream",
     "text": [
      "[52, 49, 56, 56, 59]\n",
      "hello\n",
      "['h', 'e', 'l', 'l', 'o']\n"
     ]
    }
   ],
   "source": [
    "test1 = encode(\"hello\")\n",
    "print(test1)\n",
    "test2 = decode(test1)\n",
    "print(test2)\n",
    "test3 =decode2(test1)\n",
    "print(test3)"
   ]
  },
  {
   "cell_type": "code",
   "execution_count": 15,
   "metadata": {},
   "outputs": [
    {
     "data": {
      "text/plain": [
       "tensor([ 0,  1,  2,  3,  4,  5,  6,  7,  8,  9, 10, 11, 12, 13, 14, 15, 16, 17,\n",
       "        18, 19, 20, 21, 22, 23, 24, 25, 26, 27, 28, 29, 30, 31, 32, 33, 34, 35,\n",
       "        36, 37, 38, 39, 40, 41, 42, 43, 44, 45, 46, 47, 48, 49, 50, 51, 52, 53,\n",
       "        54, 55, 56, 57, 58, 59, 60, 61, 62, 63, 64, 65, 66, 67])"
      ]
     },
     "execution_count": 15,
     "metadata": {},
     "output_type": "execute_result"
    }
   ],
   "source": [
    "data = torch.tensor(\n",
    "    encode(chars),\n",
    "    dtype = torch.long\n",
    ")\n",
    "data[:100]"
   ]
  },
  {
   "cell_type": "code",
   "execution_count": 24,
   "metadata": {},
   "outputs": [
    {
     "data": {
      "text/plain": [
       "tensor([-47,  36, -56,  -4, -54,  84])"
      ]
     },
     "execution_count": 24,
     "metadata": {},
     "output_type": "execute_result"
    }
   ],
   "source": [
    "randint = torch.randint(-100,100,(6,))\n",
    "randint"
   ]
  },
  {
   "cell_type": "code",
   "execution_count": null,
   "metadata": {},
   "outputs": [
    {
     "name": "stdout",
     "output_type": "stream",
     "text": [
      "tensor([[7301031405359874420, 2318339484618530918, 7020669167999134762],\n",
      "        [2323703971783140717, 5557490814309720430, 8245886930163559781]])\n",
      "tensor([[ 94526650967056,     21474836480, 140702158767024],\n",
      "        [140702036541808, 140702022330352,               0]])\n"
     ]
    }
   ],
   "source": [
    "# 不进行初始化，张量的内容是随机的\n",
    "a = torch.empty((2,3),dtype=torch.int64)\n",
    "print(a)\n",
    "empty_like = torch.empty_like(a)\n",
    "print(empty_like)"
   ]
  },
  {
   "cell_type": "code",
   "execution_count": 32,
   "metadata": {},
   "outputs": [
    {
     "name": "stdout",
     "output_type": "stream",
     "text": [
      "cuda\n",
      "cuda using time:0.00044107\n",
      "CPU using time:0.33471227\n",
      "cuda using time: 0.00044107\n",
      "CPU using time: 0.33471227\n"
     ]
    }
   ],
   "source": [
    "# why using cuda(GPU) is necessary\n",
    "device = \"cuda\" if torch.cuda.is_available else \"cpu\"\n",
    "print(device)\n",
    "mat1_G = torch.rand(10000,10000).to(device)\n",
    "mat2_G = torch.rand(10000,10000).to(device)\n",
    "mat1 = torch.rand(10000,10000)\n",
    "mat2 = torch.rand(10000,10000)\n",
    "start_time = time.time()\n",
    "result_G = mat1_G @ mat2_G\n",
    "end_time = time.time()\n",
    "using_time_CUDA = end_time - start_time\n",
    "\n",
    "start_time = time.time()\n",
    "result_C = np.multiply(mat1, mat2)\n",
    "end_time = time.time()\n",
    "using_time_CPU = end_time - start_time\n",
    "print(\"cuda using time:{:.8f}\".format(using_time_CUDA))\n",
    "print(\"CPU using time:{:.8f}\".format(using_time_CPU))\n",
    "\n",
    "print(f\"cuda using time: {using_time_CUDA:.8f}\")\n",
    "print(f\"CPU using time: {using_time_CPU:.8f}\")"
   ]
  }
 ],
 "metadata": {
  "kernelspec": {
   "display_name": "llm_from_scrach",
   "language": "python",
   "name": "python3"
  },
  "language_info": {
   "codemirror_mode": {
    "name": "ipython",
    "version": 3
   },
   "file_extension": ".py",
   "mimetype": "text/x-python",
   "name": "python",
   "nbconvert_exporter": "python",
   "pygments_lexer": "ipython3",
   "version": "3.10.0"
  }
 },
 "nbformat": 4,
 "nbformat_minor": 2
}
