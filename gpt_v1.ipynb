{
 "cells": [
  {
   "cell_type": "code",
   "execution_count": 98,
   "metadata": {},
   "outputs": [],
   "source": [
    "import torch\n",
    "import numpy as np\n",
    "import time\n",
    "import torch.nn as nn\n",
    "device = \"cuda\" if torch.cuda.is_available() else \"cpu\""
   ]
  },
  {
   "cell_type": "code",
   "execution_count": 192,
   "metadata": {},
   "outputs": [],
   "source": [
    "block_size = 8\n",
    "batch_size = 4\n",
    "max_iters = 10000\n",
    "learning_rate = 3e-4\n",
    "eval_iters = 250\n",
    "dropout = 0.2\n",
    "n_embed = 384\n",
    "n_layers = 6\n",
    "dropout = 0.2"
   ]
  },
  {
   "cell_type": "code",
   "execution_count": 1,
   "metadata": {},
   "outputs": [
    {
     "name": "stdout",
     "output_type": "stream",
     "text": [
      "['\\n', ' ', '\"', '#', '&', '(', ')', '*', ',', '-', '.', '0', '1', '2', '4', '5', '6', '7', '8', '9', ':', 'A', 'B', 'C', 'D', 'E', 'F', 'G', 'H', 'I', 'J', 'K', 'L', 'M', 'N', 'O', 'P', 'R', 'S', 'T', 'U', 'W', 'Y', '[', ']', 'a', 'b', 'c', 'd', 'e', 'f', 'g', 'h', 'i', 'j', 'k', 'l', 'm', 'n', 'o', 'p', 'r', 's', 't', 'u', 'v', 'w', 'y']\n",
      "68\n"
     ]
    }
   ],
   "source": [
    "with open(\"book.txt\",\"r\",encoding=\"utf-8\") as f:\n",
    "    text = f.read()\n",
    "chars = sorted(set(text))\n",
    "print(chars)\n",
    "print(len(chars))"
   ]
  },
  {
   "cell_type": "code",
   "execution_count": null,
   "metadata": {},
   "outputs": [
    {
     "data": {
      "text/plain": [
       "3"
      ]
     },
     "execution_count": 7,
     "metadata": {},
     "output_type": "execute_result"
    }
   ],
   "source": [
    "str_to_int = {ch:i for i,ch in enumerate(chars)}\n",
    "int_to_str = {i:ch for i,ch in enumerate(chars)}"
   ]
  },
  {
   "cell_type": "code",
   "execution_count": null,
   "metadata": {},
   "outputs": [
    {
     "data": {
      "text/plain": [
       "'hello'"
      ]
     },
     "execution_count": 21,
     "metadata": {},
     "output_type": "execute_result"
    }
   ],
   "source": [
    "# 定义两个方法，将一个列表中的所有字母/数字都转化成数字/字母\n",
    "encode = lambda s: [str_to_int[c] for c in s]\n",
    "decode = lambda l: ''.join([int_to_str[i] for i in l]) # 按照分隔符\"\"将字符连接起来\n",
    "decode2 = lambda l: [int_to_str[i] for i in l]\n",
    "en_data = encode(\"hello\")\n",
    "en_data\n",
    "de_data = decode(en_data)\n",
    "de_data"
   ]
  },
  {
   "cell_type": "code",
   "execution_count": 22,
   "metadata": {},
   "outputs": [
    {
     "name": "stdout",
     "output_type": "stream",
     "text": [
      "[52, 49, 56, 56, 59]\n",
      "hello\n",
      "['h', 'e', 'l', 'l', 'o']\n"
     ]
    }
   ],
   "source": [
    "test1 = encode(\"hello\")\n",
    "print(test1)\n",
    "test2 = decode(test1)\n",
    "print(test2)\n",
    "test3 =decode2(test1)\n",
    "print(test3)"
   ]
  },
  {
   "cell_type": "code",
   "execution_count": 72,
   "metadata": {},
   "outputs": [
    {
     "data": {
      "text/plain": [
       "tensor([39, 52, 49,  1, 36, 61, 59, 54, 49, 47, 63,  1, 27, 64, 63, 49, 58, 46,\n",
       "        49, 61, 51,  1, 49, 22, 59, 59, 55,  1, 59, 50,  1, 23, 45, 60, 63, 45,\n",
       "        53, 58, 62,  1, 59, 50,  1, 62, 59, 64, 56, 62,  0,  1,  1,  1,  1,  0,\n",
       "        39, 52, 53, 62,  1, 49, 46, 59, 59, 55,  1, 53, 62,  1, 50, 59, 61,  1,\n",
       "        63, 52, 49,  1, 64, 62, 49,  1, 59, 50,  1, 45, 58, 67, 59, 58, 49,  1,\n",
       "        45, 58, 67, 66, 52, 49, 61, 49,  1, 53])"
      ]
     },
     "execution_count": 72,
     "metadata": {},
     "output_type": "execute_result"
    }
   ],
   "source": [
    "data = torch.tensor(\n",
    "    encode(text),\n",
    "    dtype = torch.long\n",
    ")\n",
    "data[:100]"
   ]
  },
  {
   "cell_type": "code",
   "execution_count": 73,
   "metadata": {},
   "outputs": [
    {
     "data": {
      "text/plain": [
       "1110"
      ]
     },
     "execution_count": 73,
     "metadata": {},
     "output_type": "execute_result"
    }
   ],
   "source": [
    "len(text)"
   ]
  },
  {
   "cell_type": "code",
   "execution_count": 75,
   "metadata": {},
   "outputs": [
    {
     "name": "stdout",
     "output_type": "stream",
     "text": [
      "888\n",
      "222\n"
     ]
    }
   ],
   "source": [
    "n = int(0.8 * len(data))\n",
    "train_data = data[:n]\n",
    "val_data = data[n:]\n",
    "print(len(train_data))\n",
    "print(len(val_data))"
   ]
  },
  {
   "cell_type": "code",
   "execution_count": 74,
   "metadata": {},
   "outputs": [],
   "source": [
    "block_size = 8\n",
    "batch_size = 4"
   ]
  },
  {
   "cell_type": "code",
   "execution_count": 175,
   "metadata": {},
   "outputs": [],
   "source": [
    "length = len(train_data)\n",
    "\n",
    "def get_batch(split):\n",
    "    dataset = train_data if split == \"train\" else val_data\n",
    "    ix = torch.randint(0, len(dataset) - block_size, (batch_size,)) # 总共是几个batch\n",
    "    # a = [dataset[i:i+block_size] for i in ix] # 将每个batch构建成列表\n",
    "    x = torch.stack([dataset[i:i+block_size] for i in ix])  # 将每个batch中的数据进行堆叠，将列表中的元素进行堆叠\n",
    "    y = torch.stack([dataset[i+1:i+1+block_size] for i in ix])\n",
    "    x,y = x.to(device), y.to(device)\n",
    "    return x,y"
   ]
  },
  {
   "cell_type": "code",
   "execution_count": 173,
   "metadata": {},
   "outputs": [
    {
     "name": "stdout",
     "output_type": "stream",
     "text": [
      "[tensor([66,  1, 42, 59, 61, 55,  0,  0]), tensor([ 1, 23, 59, 60, 67, 61, 53, 51]), tensor([ 1, 38, 35, 40, 32, 38,  0,  0]), tensor([61, 67,  1, 66, 52, 49, 61, 49])]\n",
      "input:\n",
      "tensor([[66,  1, 42, 59, 61, 55,  0,  0],\n",
      "        [ 1, 23, 59, 60, 67, 61, 53, 51],\n",
      "        [ 1, 38, 35, 40, 32, 38,  0,  0],\n",
      "        [61, 67,  1, 66, 52, 49, 61, 49]])\n",
      "target:\n",
      "tensor([[ 1, 42, 59, 61, 55,  0,  0,  1],\n",
      "        [23, 59, 60, 67, 61, 53, 51, 52],\n",
      "        [38, 35, 40, 32, 38,  0,  0,  0],\n",
      "        [67,  1, 66, 52, 49, 61, 49,  1]])\n",
      "input:\n",
      "tensor([[66,  1, 42, 59, 61, 55,  0,  0],\n",
      "        [ 1, 23, 59, 60, 67, 61, 53, 51],\n",
      "        [ 1, 38, 35, 40, 32, 38,  0,  0],\n",
      "        [61, 67,  1, 66, 52, 49, 61, 49]], device='cuda:0')\n",
      "target:\n",
      "tensor([[ 1, 42, 59, 61, 55,  0,  0,  1],\n",
      "        [23, 59, 60, 67, 61, 53, 51, 52],\n",
      "        [38, 35, 40, 32, 38,  0,  0,  0],\n",
      "        [67,  1, 66, 52, 49, 61, 49,  1]], device='cuda:0')\n"
     ]
    }
   ],
   "source": [
    "x,y = get_batch('train')\n",
    "print(f\"input:\\n{x}\")\n",
    "print(f\"target:\\n{y}\")"
   ]
  },
  {
   "cell_type": "code",
   "execution_count": 96,
   "metadata": {},
   "outputs": [
    {
     "name": "stdout",
     "output_type": "stream",
     "text": [
      "when the input is tensor([39]), the target is 52\n",
      "when the input is tensor([39, 52]), the target is 49\n",
      "when the input is tensor([39, 52, 49]), the target is 1\n",
      "when the input is tensor([39, 52, 49,  1]), the target is 36\n",
      "when the input is tensor([39, 52, 49,  1, 36]), the target is 61\n",
      "when the input is tensor([39, 52, 49,  1, 36, 61]), the target is 59\n",
      "when the input is tensor([39, 52, 49,  1, 36, 61, 59]), the target is 54\n"
     ]
    }
   ],
   "source": [
    "# 取一个batch，查看输入和目标是什么\n",
    "x = train_data[:block_size]\n",
    "y = train_data[1: block_size + 1]\n",
    "for i in range(block_size-1):\n",
    "    context = x[0:i + 1]\n",
    "    target = y[i]\n",
    "    print(f\"when the input is {context}, the target is {target}\")"
   ]
  },
  {
   "cell_type": "code",
   "execution_count": 102,
   "metadata": {},
   "outputs": [
    {
     "name": "stdout",
     "output_type": "stream",
     "text": [
      "torch.Size([2, 3, 4])\n",
      "torch.Size([3, 4, 2])\n"
     ]
    }
   ],
   "source": [
    "a = torch.randint(0,4,(2,3,4))\n",
    "print(a.shape)\n",
    "w,t,c = a.shape\n",
    "b = a.view(t,c,w)\n",
    "print(b.shape)"
   ]
  },
  {
   "cell_type": "code",
   "execution_count": 103,
   "metadata": {},
   "outputs": [],
   "source": [
    "import torch.nn.functional as F"
   ]
  },
  {
   "cell_type": "code",
   "execution_count": 185,
   "metadata": {},
   "outputs": [],
   "source": [
    "@torch.no_grad()\n",
    "def estimate_loss():\n",
    "    out = {}\n",
    "    model.eval()\n",
    "    for split in [\"train\",\"val\"]:\n",
    "        losses = torch.zeros(eval_iters)\n",
    "        for k in range(eval_iters):\n",
    "            X,Y = get_batch(split=split)\n",
    "            _, loss = model(X,Y)\n",
    "            losses[k] = loss.item()\n",
    "        out[split] = losses.mean()\n",
    "    model.train()\n",
    "    return out"
   ]
  },
  {
   "cell_type": "code",
   "execution_count": null,
   "metadata": {},
   "outputs": [],
   "source": [
    "class Head(nn.Module):\n",
    "    \"\"\"\n",
    "    one head of self-attention\n",
    "    \"\"\"\n",
    "    def __init__(self, head_size):\n",
    "        super().__init__()\n",
    "        self.key = nn.Linear(n_embed, head_size, bias=False)\n",
    "        self.query = nn.Linear(n_embed, head_size, bias=False)\n",
    "        self.key = nn.Linear(n_embed, head_size, bias=False)\n",
    "        # 将tril注册为一个缓冲区，他们是模型的一部分，用作mask，但不会在训练中参与梯度更新\n",
    "        self.register_buffer('tril', torch.tril(torch.ones(block_size, block_size)))# 其实就是建立一个下三角矩阵\n",
    "\n",
    "        self.dropout = nn.Dropout(dropout)\n",
    "    \n",
    "    def forward(self, x):\n",
    "        # input of size: (batch, time-step, channels)\n",
    "        # output of size: (batch, time-step, head_size)\n",
    "        _,T,_ = x.shape\n",
    "        k = self.key(x) # shape:(B,T,hs)\n",
    "        q = self.query(x) # shape:(B,T,hs)\n",
    "        # compute attention scores\n",
    "        wei = q @ k.transpose(-2,-1) * k.shape[-1]**-0.5 # (B,T,hs) * (B,hs,T) -> (B,T,T)\n",
    "        # masked_fill:根据mask来填充张量中的某些位置，若是对应位置为True,则将该位置填充为指定的值\n",
    "        # torch.tril():将某个张量转化为下三角矩阵，上三角部分置为0\n",
    "        # 用-inf替换掉wei中与tril的上三角部分对应的元素\n",
    "        wei = wei.masked_fill(\n",
    "            self.tril[:T, :T] == 0,\n",
    "            float('-inf')\n",
    "        )\n",
    "        wei = F.softmax(wei, dim=-1) # (B,T,T)\n",
    "        wei = self.dropout(wei)\n",
    "        v = self.value(x)\n",
    "        out = wei @ v\n",
    "        return out"
   ]
  },
  {
   "cell_type": "code",
   "execution_count": 190,
   "metadata": {},
   "outputs": [],
   "source": [
    "class MultiHeadAttention(nn.Module):\n",
    "    \"\"\"\n",
    "    multiple heads of self-attention in parallel\n",
    "    \"\"\"\n",
    "    def __init__(self, num_heads, head_size):\n",
    "        super().__init__()\n",
    "        self.heads = nn.ModuleList([Head(head_size) for _ in range(num_heads)])\n",
    "        self.proj = nn.Linear(num_heads * head_size, n_embed)\n",
    "        self.dropout = nn.Dropout(dropout)\n",
    "\n",
    "    def forward(self, x):\n",
    "        out = torch.cat([h(x) for h in self.heads], dim=-1)\n",
    "        out = self.dropout(out)\n",
    "        return out"
   ]
  },
  {
   "cell_type": "code",
   "execution_count": null,
   "metadata": {},
   "outputs": [],
   "source": [
    "class FeedForward(nn.Module):\n",
    "    \"\"\"\n",
    "    a simple linear layer followed by a non-linearity\n",
    "    \"\"\"\n",
    "    def __init__(self, n_embed):\n",
    "        super().__init__()\n",
    "        self.net = nn.Sequential(\n",
    "            nn.Linear(n_embed, 4*n_embed),\n",
    "            nn.ReLU(),\n",
    "            nn.Linear(4*n_embed, n_embed),\n",
    "            nn.Dropout(dropout),\n",
    "        )\n",
    "    \n",
    "    def forward(self, x):\n",
    "        return self.net(x)\n"
   ]
  },
  {
   "cell_type": "code",
   "execution_count": 191,
   "metadata": {},
   "outputs": [],
   "source": [
    "class Block(nn.Module):\n",
    "    \"\"\"\n",
    "    Transformer Block: communication followed by computation\n",
    "    \"\"\"\n",
    "    def __init__(self, n_embed, n_head):\n",
    "        super().__init__()\n",
    "        head_size = n_embed // n_head\n",
    "        self.sa = MultiHeadAttention(n_head, head_size)\n",
    "        self.ffd = FeedForward(n_embed)\n",
    "        self.ln1 = nn.LayerNorm(n_embed)\n",
    "        self.ln2 = nn.LayerNorm(n_embed)\n",
    "    \n",
    "    def forward(self, x):\n",
    "        y = self.sa(x)\n",
    "        x = self.ln1(x + y)\n",
    "        y = self.ffd(x)\n",
    "        x = self.ln2(x + y)\n",
    "        return x"
   ]
  },
  {
   "cell_type": "markdown",
   "metadata": {},
   "source": [
    "*是解包操作，将列表中的元素一个个进行解决出来，做为单独的参数传给函数\n",
    "nn.Sequential()并不接受列表的输入，需要将其解包，然后一个个输入，一个个进行构建"
   ]
  },
  {
   "cell_type": "code",
   "execution_count": null,
   "metadata": {},
   "outputs": [],
   "source": [
    "class GPTLanguageModel(nn.Module):\n",
    "    def __init__(self, vocab_size):\n",
    "        super().__init__()\n",
    "        self.token_embedding_table = nn.Embedding(vocab_size, n_embed)\n",
    "        self.position_embedding_table = nn.Embedding(block_size, n_embed)\n",
    "        self.blocks = nn.Sequential(*[Block(n_embed, n_head) for _ in range(n_layers)])\n",
    "        self.ln_f = nn.LayerNorm(n_embed)\n",
    "        self.lm_head = nn.Linear(n_embed, vocab_size)\n",
    "    \n",
    "        self.apply(self._init_weights)\n",
    "    \n",
    "    def _init_weights(self, module):\n",
    "        if isinstance(module, nn.Linear):\n",
    "            torch.nn.init.normal_(module.weight, mean=0.0, std=0.02)\n",
    "            if module.bias is not None:\n",
    "                torch.nn.init.zeros_(module.bias)\n",
    "        elif isinstance(module, nn.Embedding):\n",
    "            torch.nn.init.normal_(module.weight, mean=0.0, std=0.02)\n",
    "\n",
    "\n",
    "    def forward(self, idx, targets=None):\n",
    "        tok_emb = self.token_embedding_table(idx)\n",
    "        pos_emb = self.position_embedding_table(torch.arange(T, device=device))\n",
    "        x = tok_emb + pos_emb\n",
    "        x = self.blocks(x)\n",
    "        x = self.ln_f(x)\n",
    "        logits = self.lm_head(x)\n",
    "\n",
    "\n",
    "        if targets is None:\n",
    "            loss = None\n",
    "        else:\n",
    "            B, T, C = logits.shape\n",
    "            logits = logits.view(B*T, C)\n",
    "            targets = targets.view(B*T)\n",
    "            loss = F.cross_entropy(logits, targets)\n",
    "        return logits, loss\n",
    "    \n",
    "    def generate(self, index, max_new_tokens):\n",
    "        for _ in range(max_new_tokens):\n",
    "            logits, _ = self.forward(index)\n",
    "            logits = logits[:, -1, :] # take the last time step\n",
    "            probs = F.softmax(logits, dim=-1)\n",
    "            index_next = torch.multinomial(probs, num_samples=1)\n",
    "            index = torch.cat((index, index_next), dim=1)\n",
    "        return index"
   ]
  },
  {
   "cell_type": "code",
   "execution_count": 126,
   "metadata": {},
   "outputs": [
    {
     "name": "stdout",
     "output_type": "stream",
     "text": [
      "\n",
      "mc\n",
      "ubsK(-\"kGEsf[M:.hC9(9U1uUC5-\"J5mYtOY1sGoM#yA,OB\"ehMC4D.86\"LftTpY2okpBBy#k6rfRpp(9(2NC#D&n\n",
      "mM1[yD4dGM\n",
      "tHY&n 2)[1ymTNRe41t9kh((-PNbsK(&Ou[45iEj hAd[Ur85,(tdOIyb1tISNHrsY4d2F21wauJ4dYAlYiNoudJ5:Us#\n",
      "7J-2el6\"lAopEcFskkun ElK28WT2PcC\"#dl8WT&bwMBk[YujaF.UsM-ga[Yku  b,C1*f5Kg E)o g8,IT4NbhMC:k698kyF5r5TgcuPuB&mR)wSuIuI7MCb7\n",
      "LLwKLw9G2##U0[-Ls(4-*wIH6h EJ)#0LA02oO,bPAYp(-s0&UpY*e5u1\n",
      "m4hjyadoJyisK hNW6p#&,J4dD5d(\n",
      "u:S0(]hr.low7J*6-&#nyuLm fpFORP[TL*rh(M&fi#J4K)w:&MAyUhalsllopiO7HOK0*wpY6r#.fs&yJSD:lDnteD\n"
     ]
    }
   ],
   "source": [
    "vocab_size = len(chars)\n",
    "model = BigramLanguageModel(vocab_size=vocab_size)\n",
    "model = model.to(device)\n",
    "\n",
    "context = torch.zeros((1,1), dtype=torch.long, device=device)\n",
    "generated_chars = decode(model.generate(context, max_new_tokens=500)[0].tolist())\n",
    "print(generated_chars)"
   ]
  },
  {
   "cell_type": "markdown",
   "metadata": {},
   "source": [
    "Adamw:\n",
    "Adamw is a modification of the Adam optimizer that add weight decay to the parameter updates.\n",
    "This helps to regularize the model and improve generalization performance."
   ]
  },
  {
   "cell_type": "code",
   "execution_count": 186,
   "metadata": {},
   "outputs": [
    {
     "name": "stdout",
     "output_type": "stream",
     "text": [
      "step0, train loss: 2.1638, val loss: 3.2442\n",
      "step250, train loss: 2.1405, val loss: 3.2682\n",
      "step500, train loss: 2.1142, val loss: 3.3173\n",
      "step750, train loss: 2.1446, val loss: 3.3049\n",
      "step1000, train loss: 2.1486, val loss: 3.2719\n",
      "step1250, train loss: 2.1537, val loss: 3.2518\n",
      "step1500, train loss: 2.1577, val loss: 3.3656\n",
      "step1750, train loss: 2.1348, val loss: 3.2823\n",
      "step2000, train loss: 2.1454, val loss: 3.2999\n",
      "step2250, train loss: 2.1358, val loss: 3.2458\n",
      "step2500, train loss: 2.1307, val loss: 3.3595\n",
      "step2750, train loss: 2.1267, val loss: 3.3401\n",
      "step3000, train loss: 2.1191, val loss: 3.3664\n",
      "step3250, train loss: 2.1383, val loss: 3.2924\n",
      "step3500, train loss: 2.1225, val loss: 3.2807\n",
      "step3750, train loss: 2.1300, val loss: 3.3833\n",
      "step4000, train loss: 2.1081, val loss: 3.2922\n",
      "step4250, train loss: 2.1271, val loss: 3.2973\n",
      "step4500, train loss: 2.1219, val loss: 3.3225\n",
      "step4750, train loss: 2.1347, val loss: 3.3172\n",
      "step5000, train loss: 2.1313, val loss: 3.4493\n",
      "step5250, train loss: 2.1108, val loss: 3.4385\n",
      "step5500, train loss: 2.1375, val loss: 3.3749\n",
      "step5750, train loss: 2.1114, val loss: 3.3176\n",
      "step6000, train loss: 2.1283, val loss: 3.4079\n",
      "step6250, train loss: 2.1262, val loss: 3.3506\n",
      "step6500, train loss: 2.1182, val loss: 3.3216\n",
      "step6750, train loss: 2.1193, val loss: 3.3877\n",
      "step7000, train loss: 2.1293, val loss: 3.4826\n",
      "step7250, train loss: 2.1094, val loss: 3.4107\n",
      "step7500, train loss: 2.1100, val loss: 3.5582\n",
      "step7750, train loss: 2.1169, val loss: 3.4513\n",
      "step8000, train loss: 2.1141, val loss: 3.4596\n",
      "step8250, train loss: 2.0985, val loss: 3.3640\n",
      "step8500, train loss: 2.1167, val loss: 3.4518\n",
      "step8750, train loss: 2.1180, val loss: 3.5306\n",
      "step9000, train loss: 2.0940, val loss: 3.4542\n",
      "step9250, train loss: 2.1026, val loss: 3.4072\n",
      "step9500, train loss: 2.1213, val loss: 3.4390\n",
      "step9750, train loss: 2.1099, val loss: 3.3972\n",
      "2.106678009033203\n"
     ]
    }
   ],
   "source": [
    "optimizer = torch.optim.AdamW(\n",
    "    model.parameters(), \n",
    "    lr = learning_rate\n",
    ")\n",
    "\n",
    "for iter in range(max_iters):\n",
    "    if iter % eval_iters == 0:\n",
    "        losses = estimate_loss()\n",
    "        print(f\"step{iter}, train loss: {losses['train']:.4f}, val loss: {losses['val']:.4f}\")\n",
    "\n",
    "    xb, yb = get_batch('train')\n",
    "    logits, loss = model.forward(xb, yb)\n",
    "\n",
    "    optimizer.zero_grad(set_to_none=True) #优化之前将所有的梯度置为None\n",
    "    loss.backward() # 反向传播误差\n",
    "    optimizer.step() # 正向传递信息\n",
    "print(loss.item())"
   ]
  }
 ],
 "metadata": {
  "kernelspec": {
   "display_name": "llm_from_scrach",
   "language": "python",
   "name": "python3"
  },
  "language_info": {
   "codemirror_mode": {
    "name": "ipython",
    "version": 3
   },
   "file_extension": ".py",
   "mimetype": "text/x-python",
   "name": "python",
   "nbconvert_exporter": "python",
   "pygments_lexer": "ipython3",
   "version": "3.10.0"
  }
 },
 "nbformat": 4,
 "nbformat_minor": 2
}
